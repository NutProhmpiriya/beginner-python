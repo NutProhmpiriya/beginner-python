{
 "cells": [
  {
   "cell_type": "code",
   "execution_count": 2,
   "metadata": {},
   "outputs": [
    {
     "name": "stdout",
     "output_type": "stream",
     "text": [
      "5\n",
      "Alice\n"
     ]
    }
   ],
   "source": [
    "# 01.Creating variables\n",
    "number = 5 \n",
    "name = 'Alice'\n",
    "print(number)\n",
    "print(name)\n"
   ]
  },
  {
   "cell_type": "code",
   "execution_count": 3,
   "metadata": {},
   "outputs": [
    {
     "name": "stdout",
     "output_type": "stream",
     "text": [
      "Alice\n",
      "Age:  30\n"
     ]
    }
   ],
   "source": [
    "# 02.Basic data types\n",
    "age = 30 # integer\n",
    "height = 1.65 # floating point number\n",
    "is_sutdent = True # boolean\n",
    "\n",
    "print(name) # Outputs: Alice\n",
    "print('Age: ', age)  # Outpusts: Age: 30"
   ]
  },
  {
   "cell_type": "code",
   "execution_count": 4,
   "metadata": {},
   "outputs": [
    {
     "name": "stdout",
     "output_type": "stream",
     "text": [
      "Hello mohexc\n"
     ]
    }
   ],
   "source": [
    "# 03.Getting input from the user\n",
    "user_name = input('Enter your name: ')\n",
    "print('Hello', user_name)"
   ]
  },
  {
   "cell_type": "code",
   "execution_count": 9,
   "metadata": {},
   "outputs": [
    {
     "name": "stdout",
     "output_type": "stream",
     "text": [
      "15\n",
      "-5\n",
      "50\n",
      "0.5\n"
     ]
    }
   ],
   "source": [
    "# 04.Basic Mathematical Operations\n",
    "y = 10\n",
    "sum = number + y # Addition\n",
    "print(sum)\n",
    "difference = number - y # Subtraction\n",
    "print(difference)\n",
    "product = number * y # Multiplication\n",
    "print(product)\n",
    "quotient = number / y # Division\n",
    "print(quotient)"
   ]
  },
  {
   "cell_type": "code",
   "execution_count": 7,
   "metadata": {},
   "outputs": [
    {
     "name": "stdout",
     "output_type": "stream",
     "text": [
      "John Doe\n",
      "J\n"
     ]
    }
   ],
   "source": [
    "# 05.String Manipulation\n",
    "first_name = \"John\"\n",
    "last_name = \"Doe\"\n",
    "full_name = first_name + \" \" + last_name # Concatenation strings\n",
    "print(full_name) # Outputs: John Doe\n",
    "first_letter = full_name[0] # Accessing the first character of the string\n",
    "print(first_letter) # Outputs: J"
   ]
  },
  {
   "cell_type": "code",
   "execution_count": 8,
   "metadata": {},
   "outputs": [
    {
     "name": "stdout",
     "output_type": "stream",
     "text": [
      "5\n",
      "20\n"
     ]
    }
   ],
   "source": [
    "# 06. Type Conversion\n",
    "str_to_int = int(\"5\") # Convert string to integer\n",
    "print(str_to_int) # Outputs: 5\n",
    "int_to_str = str(20) # Convert integer to string\n",
    "print(int_to_str) # Outputs: \"20\"\n"
   ]
  }
 ],
 "metadata": {
  "kernelspec": {
   "display_name": "Python 3",
   "language": "python",
   "name": "python3"
  },
  "language_info": {
   "codemirror_mode": {
    "name": "ipython",
    "version": 3
   },
   "file_extension": ".py",
   "mimetype": "text/x-python",
   "name": "python",
   "nbconvert_exporter": "python",
   "pygments_lexer": "ipython3",
   "version": "3.11.2"
  }
 },
 "nbformat": 4,
 "nbformat_minor": 2
}
