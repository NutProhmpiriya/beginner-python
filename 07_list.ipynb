{
 "cells": [
  {
   "cell_type": "code",
   "execution_count": 2,
   "metadata": {},
   "outputs": [
    {
     "name": "stdout",
     "output_type": "stream",
     "text": [
      "1\n",
      "[2, 4, 6]\n"
     ]
    }
   ],
   "source": [
    "# 01. create list\n",
    "my_list = [1, \"Hello\", 3.14, [2, 4, 6]]\n",
    "\n"
   ]
  },
  {
   "cell_type": "code",
   "execution_count": 5,
   "metadata": {},
   "outputs": [
    {
     "name": "stdout",
     "output_type": "stream",
     "text": [
      "2\n",
      "world\n"
     ]
    }
   ],
   "source": [
    "# 02. Accessing List\n",
    "print(my_list[0])\n",
    "print(my_list[-1])"
   ]
  },
  {
   "cell_type": "code",
   "execution_count": 4,
   "metadata": {},
   "outputs": [
    {
     "name": "stdout",
     "output_type": "stream",
     "text": [
      "append:  [1, 'Hello', 3.14, [2, 4, 6], 'world', 'world']\n",
      "change index 0\"  [2, 'Hello', 3.14, [2, 4, 6], 'world', 'world']\n",
      "delete index 2:  [2, 'Hello', [2, 4, 6], 'world', 'world']\n"
     ]
    }
   ],
   "source": [
    "# 03 Edit List\n",
    "my_list.append(\"world\")\n",
    "print('append: ', my_list)\n",
    "my_list[0] = 2\n",
    "print('change index 0\" ', my_list)\n",
    "del my_list[2]\n",
    "print('delete index 2: ', my_list)"
   ]
  },
  {
   "cell_type": "code",
   "execution_count": 19,
   "metadata": {},
   "outputs": [
    {
     "name": "stdout",
     "output_type": "stream",
     "text": [
      "length:  5\n",
      "concat:  [2, 'Hello', [2, 4, 6], 'world', 'world', 1, 2, 3]\n",
      "repeat:  [2, 'Hello', [2, 4, 6], 'world', 'world', 2, 'Hello', [2, 4, 6], 'world', 'world']\n",
      "in:  True\n",
      "max:  5\n",
      "min:  1\n",
      "index:  2\n",
      "count:  1\n",
      "sort:  [1, 2, 3, 4, 5, 6]\n",
      "reverse:  [6, 5, 4, 3, 2, 1]\n",
      "remove:  [6, 5, 4, 3, 2]\n",
      "insert:  [1, 6, 5, 4, 3, 2]\n",
      "pop:  [1, 6, 5, 4, 3]\n",
      "pop(0):  [6, 5, 4, 3]\n",
      "6\n",
      "5\n",
      "4\n",
      "3\n"
     ]
    }
   ],
   "source": [
    "# 04 List Operation\n",
    "print('length: ', len(my_list)) # length:  output 5\n",
    "print('concat: ', my_list + [1, 2, 3]) # concat: output [2, 'Hello', [2, 4, 6], 'world', 'world', 1, 2, 3]\n",
    "print('repeat: ', my_list * 2) # repeat: output [2, 'Hello', [2, 4, 6], 'world', 'world', 2, 'Hello', [2, 4, 6], 'world', 'world']\n",
    "print('in: ', 2 in my_list) # in: output True\n",
    "numbers = [1, 2, 3, 4, 5]\n",
    "print('max: ', max(numbers)) # max: output 5\n",
    "print('min: ', min(numbers)) # min\n",
    "print('index: ', numbers.index(3)) # index\n",
    "numbers.append(6)\n",
    "print('count: ', numbers.count(6)) # count\n",
    "numbers.sort()\n",
    "print('sort: ', numbers) # sort\n",
    "numbers.reverse()\n",
    "print('reverse: ', numbers) # reverse\n",
    "numbers.remove(1)\n",
    "print('remove: ', numbers) # remove\n",
    "numbers.insert(0, 1)\n",
    "print('insert: ', numbers) # insert\n",
    "numbers.pop()\n",
    "print('pop: ', numbers) # pop\n",
    "numbers.pop(0)\n",
    "print('pop(0): ', numbers) # pop(0)\n",
    "\n",
    "for number in numbers:\n",
    "    print(number)\n",
    "\n"
   ]
  },
  {
   "cell_type": "code",
   "execution_count": 20,
   "metadata": {},
   "outputs": [
    {
     "name": "stdout",
     "output_type": "stream",
     "text": [
      "[0, 1, 4, 9, 16, 25, 36, 49, 64, 81]\n"
     ]
    }
   ],
   "source": [
    "# 05. List Comprehension\n",
    "squares = [x**2 for x in range(10)] # 0 ~ 9\n",
    "print(squares)"
   ]
  }
 ],
 "metadata": {
  "kernelspec": {
   "display_name": "Python 3",
   "language": "python",
   "name": "python3"
  },
  "language_info": {
   "codemirror_mode": {
    "name": "ipython",
    "version": 3
   },
   "file_extension": ".py",
   "mimetype": "text/x-python",
   "name": "python",
   "nbconvert_exporter": "python",
   "pygments_lexer": "ipython3",
   "version": "3.10.10"
  }
 },
 "nbformat": 4,
 "nbformat_minor": 2
}
