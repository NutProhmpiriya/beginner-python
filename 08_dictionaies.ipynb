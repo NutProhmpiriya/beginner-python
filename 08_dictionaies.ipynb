{
 "cells": [
  {
   "cell_type": "code",
   "execution_count": 1,
   "metadata": {},
   "outputs": [
    {
     "name": "stdout",
     "output_type": "stream",
     "text": [
      "{'name': 'Alice', 'age': 25, 'City': 'Toronto'}\n"
     ]
    }
   ],
   "source": [
    "# 01. Creat a dictionary\n",
    "my_dict = {\n",
    "    \"name\": \"Alice\",\n",
    "    \"age\": 25,\n",
    "    \"City\": \"Toronto\"\n",
    "}\n",
    "print(my_dict)"
   ]
  },
  {
   "cell_type": "code",
   "execution_count": 2,
   "metadata": {},
   "outputs": [
    {
     "name": "stdout",
     "output_type": "stream",
     "text": [
      "Alice\n"
     ]
    }
   ],
   "source": [
    "# 02. Accessing items\n",
    "print(my_dict[\"name\"])\n"
   ]
  },
  {
   "cell_type": "code",
   "execution_count": 3,
   "metadata": {},
   "outputs": [
    {
     "name": "stdout",
     "output_type": "stream",
     "text": [
      "{'name': 'Alice', 'age': 26, 'City': 'Toronto', 'profession': 'Data Scientist'}\n"
     ]
    }
   ],
   "source": [
    "# 03. Editing items\n",
    "my_dict[\"age\"] = 26\n",
    "my_dict[\"profession\"] = \"Data Scientist\"\n",
    "print(my_dict)"
   ]
  },
  {
   "cell_type": "code",
   "execution_count": 6,
   "metadata": {},
   "outputs": [
    {
     "ename": "KeyError",
     "evalue": "'city'",
     "output_type": "error",
     "traceback": [
      "\u001b[0;31m---------------------------------------------------------------------------\u001b[0m",
      "\u001b[0;31mKeyError\u001b[0m                                  Traceback (most recent call last)",
      "\u001b[1;32m/Users/bx66-286/Desktop/n2pbox-company/06-open-ai/basic-python/08_dictionaies.ipynb Cell 4\u001b[0m line \u001b[0;36m2\n\u001b[1;32m      <a href='vscode-notebook-cell:/Users/bx66-286/Desktop/n2pbox-company/06-open-ai/basic-python/08_dictionaies.ipynb#W3sZmlsZQ%3D%3D?line=0'>1</a>\u001b[0m \u001b[39m# 04. Deleting items\u001b[39;00m\n\u001b[0;32m----> <a href='vscode-notebook-cell:/Users/bx66-286/Desktop/n2pbox-company/06-open-ai/basic-python/08_dictionaies.ipynb#W3sZmlsZQ%3D%3D?line=1'>2</a>\u001b[0m my_dict\u001b[39m.\u001b[39;49mpop(\u001b[39m\"\u001b[39;49m\u001b[39mcity\u001b[39;49m\u001b[39m\"\u001b[39;49m)\n\u001b[1;32m      <a href='vscode-notebook-cell:/Users/bx66-286/Desktop/n2pbox-company/06-open-ai/basic-python/08_dictionaies.ipynb#W3sZmlsZQ%3D%3D?line=2'>3</a>\u001b[0m profession \u001b[39m=\u001b[39m my_dict\u001b[39m.\u001b[39mpop(\u001b[39m\"\u001b[39m\u001b[39mprofession\u001b[39m\u001b[39m\"\u001b[39m) \u001b[39m# pop() returns the value of the deleted item\u001b[39;00m\n\u001b[1;32m      <a href='vscode-notebook-cell:/Users/bx66-286/Desktop/n2pbox-company/06-open-ai/basic-python/08_dictionaies.ipynb#W3sZmlsZQ%3D%3D?line=3'>4</a>\u001b[0m \u001b[39mprint\u001b[39m(profession)\n",
      "\u001b[0;31mKeyError\u001b[0m: 'city'"
     ]
    }
   ],
   "source": [
    "# 04. Deleting items\n",
    "my_dict.pop(\"city\")\n",
    "profession = my_dict.pop(\"profession\") # pop() returns the value of the deleted item\n",
    "print(profession)\n",
    "print(my_dict)\n"
   ]
  }
 ],
 "metadata": {
  "kernelspec": {
   "display_name": "Python 3",
   "language": "python",
   "name": "python3"
  },
  "language_info": {
   "codemirror_mode": {
    "name": "ipython",
    "version": 3
   },
   "file_extension": ".py",
   "mimetype": "text/x-python",
   "name": "python",
   "nbconvert_exporter": "python",
   "pygments_lexer": "ipython3",
   "version": "3.10.10"
  }
 },
 "nbformat": 4,
 "nbformat_minor": 2
}
