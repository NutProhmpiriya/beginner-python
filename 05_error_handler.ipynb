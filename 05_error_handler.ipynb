{
 "cells": [
  {
   "cell_type": "code",
   "execution_count": 5,
   "metadata": {},
   "outputs": [
    {
     "ename": "ZeroDivisionError",
     "evalue": "division by zero",
     "output_type": "error",
     "traceback": [
      "\u001b[0;31m---------------------------------------------------------------------------\u001b[0m",
      "\u001b[0;31mZeroDivisionError\u001b[0m                         Traceback (most recent call last)",
      "\u001b[1;32m/Users/bx66-286/Desktop/n2pbox-company/06-open-ai/basic-python/04_error_handling_and_exceptions.ipynb Cell 1\u001b[0m line \u001b[0;36m1\n\u001b[0;32m----> <a href='vscode-notebook-cell:/Users/bx66-286/Desktop/n2pbox-company/06-open-ai/basic-python/04_error_handling_and_exceptions.ipynb#W1sZmlsZQ%3D%3D?line=0'>1</a>\u001b[0m result \u001b[39m=\u001b[39m \u001b[39m10\u001b[39;49m \u001b[39m/\u001b[39;49m \u001b[39m0\u001b[39;49m\n",
      "\u001b[0;31mZeroDivisionError\u001b[0m: division by zero"
     ]
    }
   ],
   "source": [
    "result = 10 / 0"
   ]
  },
  {
   "cell_type": "code",
   "execution_count": 8,
   "metadata": {},
   "outputs": [
    {
     "name": "stdout",
     "output_type": "stream",
     "text": [
      "basic try-except block Error: division by zero\n"
     ]
    }
   ],
   "source": [
    "# 01. basic try-except block \n",
    "try: \n",
    "    # attempt to execute a block of code that my cause an error\n",
    "    result = 10 / 0\n",
    "except Exception as e:\n",
    "    print(\"basic try-except block Error:\", e)"
   ]
  },
  {
   "cell_type": "code",
   "execution_count": 10,
   "metadata": {},
   "outputs": [
    {
     "name": "stdout",
     "output_type": "stream",
     "text": [
      "Invalid input! Please enter a numeric value.\n",
      "Error: invalid literal for int() with base 10: 'name'\n"
     ]
    }
   ],
   "source": [
    "# 02. Handling multiple exceptions\n",
    "try: \n",
    "    number = int(input(\"Enter a number: \"))\n",
    "    result = 10 / number\n",
    "except ValueError as e:\n",
    "    print(\"Invalid input! Please enter a numeric value.\")\n",
    "    print(\"Error:\", e)\n",
    "except ZeroDivisionError as e:\n",
    "    print(\"Division by zero is not allowed.\")\n",
    "    print(\"Error:\", e)"
   ]
  },
  {
   "cell_type": "code",
   "execution_count": 11,
   "metadata": {},
   "outputs": [
    {
     "name": "stdout",
     "output_type": "stream",
     "text": [
      "Invalid input! Please enter a numeric value.\n",
      "This block is always executed.\n"
     ]
    }
   ],
   "source": [
    "#  03. Using else and finally \n",
    "try: \n",
    "    number = int(input(\"enter a non-zero number: \"))\n",
    "    result = 10 / number\n",
    "except ValueError:\n",
    "    print(\"Invalid input! Please enter a numeric value.\")\n",
    "except ZeroDivisionError:\n",
    "    print(\"Division by zero is not allowed.\")\n",
    "else:\n",
    "    # Code to execute if there are no exceptions\n",
    "    print(\"No errors occurred. Result is\", result)\n",
    "finally:\n",
    "    # Code to execute regardless of exceptions\n",
    "    print(\"This block is always executed.\")\n",
    "\n"
   ]
  },
  {
   "cell_type": "code",
   "execution_count": null,
   "metadata": {},
   "outputs": [],
   "source": [
    "# 04. Raising exceptions\n",
    "x = -1\n",
    "if x < 0:\n",
    "    raise ValueError(\"x cannot be negative.\")"
   ]
  },
  {
   "cell_type": "markdown",
   "metadata": {},
   "source": [
    "# การจัดการข้อผิดพลาดใน Python\n",
    "\n",
    "- **บล็อก `try-except` พื้นฐานเพื่อจัดการกับข้อผิดพลาดที่เฉพาะเจาะจง (เช่น `ZeroDivisionError`)**\n",
    "\n",
    "- **จัดการหลายประเภทของข้อผิดพลาดในบล็อก `try-except` เดียวกัน**\n",
    "\n",
    "\n",
    "- **ใช้ `else` สำหรับรันโค้ดเมื่อไม่มีข้อผิดพลาดเกิดขึ้น**\n",
    "\n",
    "\n",
    "- **ใช้ `finally` สำหรับรันโค้ดที่จะทำงานเสมอ ไม่ว่าจะมีข้อผิดพลาดหรือไม่**\n",
    "\n",
    "\n",
    "- **ใช้ `raise` เพื่อสร้างข้อผิดพลาดด้วยตัวเองเมื่อเงื่อนไขเฉพาะถูกต้อง**\n",
    "\n"
   ]
  },
  {
   "cell_type": "markdown",
   "metadata": {},
   "source": []
  }
 ],
 "metadata": {
  "kernelspec": {
   "display_name": "Python 3",
   "language": "python",
   "name": "python3"
  },
  "language_info": {
   "codemirror_mode": {
    "name": "ipython",
    "version": 3
   },
   "file_extension": ".py",
   "mimetype": "text/x-python",
   "name": "python",
   "nbconvert_exporter": "python",
   "pygments_lexer": "ipython3",
   "version": "3.11.2"
  }
 },
 "nbformat": 4,
 "nbformat_minor": 2
}
