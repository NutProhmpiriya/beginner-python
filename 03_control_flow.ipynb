{
 "cells": [
  {
   "cell_type": "code",
   "execution_count": 1,
   "metadata": {},
   "outputs": [
    {
     "name": "stdout",
     "output_type": "stream",
     "text": [
      "x is greater than 5\n"
     ]
    }
   ],
   "source": [
    "# 01. if statement\n",
    "x = 10 \n",
    "if x > 5:\n",
    "    print(\"x is greater than 5\")"
   ]
  },
  {
   "cell_type": "code",
   "execution_count": 2,
   "metadata": {},
   "outputs": [
    {
     "name": "stdout",
     "output_type": "stream",
     "text": [
      "y is less than or equal to 5\n"
     ]
    }
   ],
   "source": [
    "# 02. if-else statement\n",
    "y = 4 \n",
    "if y > 5: \n",
    "    print(\"y is greater than 5\")\n",
    "else: \n",
    "    print(\"y is less than or equal to 5\")"
   ]
  },
  {
   "cell_type": "code",
   "execution_count": 3,
   "metadata": {},
   "outputs": [
    {
     "name": "stdout",
     "output_type": "stream",
     "text": [
      "0\n",
      "1\n",
      "2\n",
      "3\n",
      "4\n"
     ]
    }
   ],
   "source": [
    "# 03.for loop \n",
    "for i in range(5): # range(5) generates numbers form 0 to 4 -> = [0,1,2,3,4]\n",
    "    print(i)\n"
   ]
  },
  {
   "cell_type": "code",
   "execution_count": 6,
   "metadata": {},
   "outputs": [
    {
     "name": "stdout",
     "output_type": "stream",
     "text": [
      "0\n",
      "1\n",
      "2\n",
      "3\n",
      "4\n"
     ]
    }
   ],
   "source": [
    "# 04. while loop\n",
    "count = 0 \n",
    "while count < 5: \n",
    "    print(count)\n",
    "    count += 1 # increment count by 1"
   ]
  },
  {
   "cell_type": "code",
   "execution_count": 7,
   "metadata": {},
   "outputs": [
    {
     "name": "stdout",
     "output_type": "stream",
     "text": [
      "i = 0, j =0\n",
      "i = 1, j =1\n"
     ]
    }
   ],
   "source": [
    "# 05. nested loops and conditional statements\n",
    "for i in range(3): # outer loop, i = 0,1,2\n",
    "    for j in range(2): # inner loop, j = 0,1\n",
    "        if i == j: # conditional statement inside nested loop \n",
    "            print(f\"i = {i}, j ={j}\") # this will print pairs where i quals j"
   ]
  }
 ],
 "metadata": {
  "kernelspec": {
   "display_name": "Python 3",
   "language": "python",
   "name": "python3"
  },
  "language_info": {
   "codemirror_mode": {
    "name": "ipython",
    "version": 3
   },
   "file_extension": ".py",
   "mimetype": "text/x-python",
   "name": "python",
   "nbconvert_exporter": "python",
   "pygments_lexer": "ipython3",
   "version": "3.11.2"
  }
 },
 "nbformat": 4,
 "nbformat_minor": 2
}
