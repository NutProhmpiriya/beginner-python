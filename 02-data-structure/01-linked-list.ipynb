{
 "cells": [
  {
   "cell_type": "code",
   "execution_count": 23,
   "metadata": {},
   "outputs": [
    {
     "name": "stdout",
     "output_type": "stream",
     "text": [
      "{\n",
      "    \"data\": 1,\n",
      "    \"next\": null\n",
      "}\n"
     ]
    }
   ],
   "source": [
    "# ลิงค์ลิสต์ (Linked List) เป็นโครงสร้างข้อมูลพื้นฐานที่เก็บข้อมูลในรูปแบบของโหนดที่เชื่อมต่อกัน ซึ่งแต่ละโหนดประกอบด้วยส่วนข้อมูล (data) และการอ้างอิง (reference) ไปยังโหนดถัดไปในลิสต์\n",
    "import utilsA\n",
    "class Node: \n",
    "    # Constructor to initialize a node \n",
    "    def __init__(self, data): \n",
    "        self.data = data # Assign data \n",
    "        self.next = None # initialize next as null\n",
    "\n",
    "new_node = Node(1)\n",
    "utilsA.printJson(new_node.__dict__)"
   ]
  },
  {
   "cell_type": "code",
   "execution_count": 24,
   "metadata": {},
   "outputs": [
    {
     "name": "stdout",
     "output_type": "stream",
     "text": [
      "{\n",
      "    \"head\": null\n",
      "}\n"
     ]
    }
   ],
   "source": [
    "class LinkedList:\n",
    "    # Function to initialize head\n",
    "    def __init__(self):\n",
    "        self.head = None\n",
    "\n",
    "    # Function to insert a new node at the beginning\n",
    "    def push(self, new_data):\n",
    "        new_node = Node(new_data)  # Create a new node with given data\n",
    "        new_node.next = self.head  # Make next of new node as head\n",
    "        self.head = new_node       # Move the head to point to new node\n",
    "\n",
    "    # Function to insert a new node after a given node\n",
    "    def insertAfter(self, prev_node, new_data):\n",
    "        if prev_node is None:\n",
    "            print(\"The given previous node must in LinkedList.\")\n",
    "            return\n",
    "        new_node = Node(new_data)  # Create a new node\n",
    "        new_node.next = prev_node.next  # Make next of new node as next of prev_node\n",
    "        prev_node.next = new_node       # make next of prev_node as new_node\n",
    "\n",
    "    # Function to append a new node at the end\n",
    "    def append(self, new_data):\n",
    "        new_node = Node(new_data)  # Create a new node\n",
    "        if self.head is None:      # If the LinkedList is empty, then make the new node as head\n",
    "            self.head = new_node\n",
    "            return\n",
    "        last = self.head\n",
    "        while (last.next):         # Traverse till the last node\n",
    "            last = last.next\n",
    "        last.next = new_node       # Change the next of last node\n",
    "\n",
    "    # Utility function to print the linked list\n",
    "    def printList(self):\n",
    "        temp = self.head\n",
    "        while (temp):\n",
    "            print(temp.data, end=\" \")\n",
    "            temp = temp.next\n",
    "\n",
    "\n",
    "llist = LinkedList()  # Start with the empty list\n",
    "utilsA.printJson(llist.__dict__)"
   ]
  },
  {
   "cell_type": "code",
   "execution_count": 28,
   "metadata": {},
   "outputs": [
    {
     "name": "stdout",
     "output_type": "stream",
     "text": [
      "6 6 6 6 "
     ]
    }
   ],
   "source": [
    "llist.append(6)       # Insert 6.  So linked list becomes 6->None\n",
    "llist.printList()"
   ]
  }
 ],
 "metadata": {
  "kernelspec": {
   "display_name": "Python 3",
   "language": "python",
   "name": "python3"
  },
  "language_info": {
   "codemirror_mode": {
    "name": "ipython",
    "version": 3
   },
   "file_extension": ".py",
   "mimetype": "text/x-python",
   "name": "python",
   "nbconvert_exporter": "python",
   "pygments_lexer": "ipython3",
   "version": "3.11.2"
  }
 },
 "nbformat": 4,
 "nbformat_minor": 2
}
