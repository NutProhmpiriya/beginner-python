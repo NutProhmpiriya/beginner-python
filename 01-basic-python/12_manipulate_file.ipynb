{
 "cells": [
  {
   "cell_type": "code",
   "execution_count": 7,
   "metadata": {},
   "outputs": [
    {
     "name": "stdout",
     "output_type": "stream",
     "text": [
      "<_io.TextIOWrapper name='data.txt' mode='r' encoding='utf-8'>\n"
     ]
    }
   ],
   "source": [
    "# การเปิดไฟล์, การอ่านข้อมูลจากไฟล์, การเขียนข้อมูลลงไฟล์, และการปิดไฟล์.\n",
    "\n",
    "# 01. Open file\n",
    "file = open('data.txt', 'r') # r = read, w = write, a = append\n",
    "print(file)"
   ]
  },
  {
   "cell_type": "code",
   "execution_count": 8,
   "metadata": {},
   "outputs": [
    {
     "name": "stdout",
     "output_type": "stream",
     "text": [
      "Good moring \n",
      "\n",
      "How are you doing today?\n",
      "\n",
      "I am doing well, thank you. How are you?\n",
      "Yes, I am doing well. Thank you for asking.\n"
     ]
    }
   ],
   "source": [
    "# 02. Read file\n",
    "data = file.read() # อ่านทั้งหมด\n",
    "print(data)\n",
    "file.close() # ปิดไฟล์"
   ]
  },
  {
   "cell_type": "code",
   "execution_count": 13,
   "metadata": {},
   "outputs": [
    {
     "name": "stdout",
     "output_type": "stream",
     "text": [
      "Good moring \n",
      "\n"
     ]
    }
   ],
   "source": [
    "file = open('data.txt', 'r')\n",
    "line = file.readline() # อ่านบรรทัดแรก\n",
    "print(line)\n",
    "file.close()"
   ]
  },
  {
   "cell_type": "code",
   "execution_count": 14,
   "metadata": {},
   "outputs": [
    {
     "name": "stdout",
     "output_type": "stream",
     "text": [
      "['Good moring \\n', '\\n', 'How are you doing today?\\n', '\\n', 'I am doing well, thank you. How are you?\\n', 'Yes, I am doing well. Thank you for asking.']\n"
     ]
    }
   ],
   "source": [
    "file = open('data.txt', 'r')\n",
    "lines = file.readlines() # อ่านทั้งหมดแล้วเก็บเป็น list\n",
    "print(lines)\n",
    "file.close()"
   ]
  },
  {
   "cell_type": "code",
   "execution_count": 15,
   "metadata": {},
   "outputs": [
    {
     "data": {
      "text/plain": [
       "23"
      ]
     },
     "execution_count": 15,
     "metadata": {},
     "output_type": "execute_result"
    }
   ],
   "source": [
    "# 03. Write file\n",
    "fileWrite = open('data-write.txt', 'w') # w = write\n",
    "fileWrite.write('Hello World and Mohexc\\n')\n"
   ]
  },
  {
   "cell_type": "code",
   "execution_count": 16,
   "metadata": {},
   "outputs": [
    {
     "name": "stdout",
     "output_type": "stream",
     "text": [
      "Good moring \n",
      "\n",
      "How are you doing today?\n",
      "\n",
      "I am doing well, thank you. How are you?\n",
      "Yes, I am doing well. Thank you for asking.\n"
     ]
    }
   ],
   "source": [
    "# 04. context manager เพื่อให้แน่ใจว่าไฟล์จะถูกปิดอย่างถูกต้องหลังจากเสร็จสิ้นการใช้งาน, ควรใช้ context manager โดยใช้คำสั่ง with. การใช้ with จะทำให้ไฟล์ปิดโดยอัตโนมัติเมื่อออกจาก block.\n",
    "with open('data.txt', 'r') as file:\n",
    "    data = file.read()\n",
    "    print(data)"
   ]
  },
  {
   "cell_type": "code",
   "execution_count": 19,
   "metadata": {},
   "outputs": [],
   "source": [
    "# 05. append file การใช้โหมด 'a' จะทำให้ข้อมูลที่เขียนลงไปจะถูกเพิ่มที่ตอนท้ายของไฟล์แทนที่จะเขียนทับข้อมูลเดิม. นี่คือตัวอย่างวิธีการ append ข้อมูลเข้าไปในไฟล์:\n",
    "with open('data.txt', 'a') as file:\n",
    "    file.write('\\nHello World and Mohexc\\n')"
   ]
  }
 ],
 "metadata": {
  "kernelspec": {
   "display_name": "Python 3",
   "language": "python",
   "name": "python3"
  },
  "language_info": {
   "codemirror_mode": {
    "name": "ipython",
    "version": 3
   },
   "file_extension": ".py",
   "mimetype": "text/x-python",
   "name": "python",
   "nbconvert_exporter": "python",
   "pygments_lexer": "ipython3",
   "version": "3.11.2"
  }
 },
 "nbformat": 4,
 "nbformat_minor": 2
}
