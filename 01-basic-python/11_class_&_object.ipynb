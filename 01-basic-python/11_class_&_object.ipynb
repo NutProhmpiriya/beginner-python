{
 "cells": [
  {
   "cell_type": "code",
   "execution_count": 1,
   "metadata": {},
   "outputs": [
    {
     "name": "stdout",
     "output_type": "stream",
     "text": [
      "Brownie\n",
      "2\n"
     ]
    }
   ],
   "source": [
    "# 01.Create class \n",
    "class Dog: \n",
    "    def __init__(self, name, age):\n",
    "        self.name = name\n",
    "        self.age = age\n",
    "    def bark(self):\n",
    "        print(\"Bark! Bark!\")\n",
    "\n",
    "# 02.Create object\n",
    "dog1 = Dog(\"Brownie\", 2)\n",
    "\n",
    "print(dog1.name) # output: Brownie\n",
    "print(dog1.age) # output: 2"
   ]
  },
  {
   "cell_type": "code",
   "execution_count": 2,
   "metadata": {},
   "outputs": [
    {
     "name": "stdout",
     "output_type": "stream",
     "text": [
      "Buddy says Woof!\n",
      "Whiskers says Meow!\n"
     ]
    }
   ],
   "source": [
    "# 02. Inheritance\n",
    "# คลาสแม่\n",
    "class Animal:\n",
    "    def __init__(self, name):\n",
    "        self.name = name\n",
    "\n",
    "    def speak(self):\n",
    "        raise NotImplementedError(\"Subclass must implement abstract method\")\n",
    "\n",
    "# คลาสลูกที่สืบทอดจาก Animal\n",
    "class Dog(Animal):\n",
    "    def speak(self):\n",
    "        return f\"{self.name} says Woof!\"\n",
    "\n",
    "class Cat(Animal):\n",
    "    def speak(self):\n",
    "        return f\"{self.name} says Meow!\"\n",
    "\n",
    "# การสร้างออบเจ็กต์จากคลาสลูก\n",
    "dog = Dog(\"Buddy\")\n",
    "cat = Cat(\"Whiskers\")\n",
    "\n",
    "print(dog.speak())  # Buddy says Woof!\n",
    "print(cat.speak())  # Whiskers says Meow!"
   ]
  },
  {
   "cell_type": "code",
   "execution_count": 3,
   "metadata": {},
   "outputs": [
    {
     "name": "stdout",
     "output_type": "stream",
     "text": [
      "150\n"
     ]
    }
   ],
   "source": [
    "# 02. Encapsulation การซ่อนข้อมูลคือการจำกัดการเข้าถึงโดยตรงต่อบางคุณสมบัติหรือเมธอดของคลาส (ทำให้เป็น private).\n",
    "class Account:\n",
    "    def __init__(self, name, balance):\n",
    "        self.name = name\n",
    "        self.__balance = balance  # แอตทริบิวต์ private\n",
    "\n",
    "    def deposit(self, amount):\n",
    "        if amount > 0:\n",
    "            self.__balance += amount\n",
    "\n",
    "    def get_balance(self):\n",
    "        return self.__balance\n",
    "\n",
    "# การสร้างและใช้งานออบเจ็กต์\n",
    "account = Account(\"John\", 100)\n",
    "account.deposit(50)\n",
    "print(account.get_balance())  # 150\n"
   ]
  },
  {
   "cell_type": "code",
   "execution_count": 5,
   "metadata": {},
   "outputs": [
    {
     "name": "stdout",
     "output_type": "stream",
     "text": [
      "6\n",
      "3.14\n"
     ]
    }
   ],
   "source": [
    "# 03. Polymorphism การพีโอลีมอร์ฟิซึมคือความสามารถของเมธอดที่มีชื่อเดียวกันในการทำงานต่างกันในคลาสที่แตกต่างกัน.\n",
    "# คลาสแม่\n",
    "class Shape:\n",
    "    def area(self):\n",
    "        pass\n",
    "\n",
    "# คลาสลูกที่มีเมธอด area ที่ต่างกัน\n",
    "class Rectangle(Shape):\n",
    "    def __init__(self, width, height):\n",
    "        self.width = width\n",
    "        self.height = height\n",
    "\n",
    "    def area(self):\n",
    "        return self.width * self.height\n",
    "\n",
    "class Circle(Shape):\n",
    "    def __init__(self, radius):\n",
    "        self.radius = radius\n",
    "\n",
    "    def area(self):\n",
    "        return 3.14 * self.radius * self.radius\n",
    "\n",
    "# การใช้งาน\n",
    "shapes = [Rectangle(2, 3), Circle(1)]\n",
    "for shape in shapes:\n",
    "    print(shape.area())  # การเรียกเมธอด area ที่แตกต่างกันของ Rectangle และ Circle\n"
   ]
  }
 ],
 "metadata": {
  "kernelspec": {
   "display_name": "Python 3",
   "language": "python",
   "name": "python3"
  },
  "language_info": {
   "codemirror_mode": {
    "name": "ipython",
    "version": 3
   },
   "file_extension": ".py",
   "mimetype": "text/x-python",
   "name": "python",
   "nbconvert_exporter": "python",
   "pygments_lexer": "ipython3",
   "version": "3.11.2"
  }
 },
 "nbformat": 4,
 "nbformat_minor": 2
}
